{
 "cells": [
  {
   "cell_type": "code",
   "execution_count": 20,
   "metadata": {},
   "outputs": [
    {
     "data": {
      "text/plain": [
       "<module 'proxiLog' from 'c:\\\\Users\\\\johnt\\\\Documents\\\\GitHub\\\\SYS320Tiseo\\\\Week02\\\\homework\\\\proxiLog.py'>"
      ]
     },
     "execution_count": 20,
     "metadata": {},
     "output_type": "execute_result"
    }
   ],
   "source": [
    "import importlib, apacheLog, proxiLog\n",
    "importlib.reload(apacheLog)\n",
    "importlib.reload(proxiLog)"
   ]
  },
  {
   "cell_type": "markdown",
   "metadata": {},
   "source": [
    "# System Logs"
   ]
  },
  {
   "cell_type": "markdown",
   "metadata": {},
   "source": [
    "## Apache"
   ]
  },
  {
   "cell_type": "code",
   "execution_count": 21,
   "metadata": {},
   "outputs": [
    {
     "name": "stdout",
     "output_type": "stream",
     "text": [
      "404 GET /wordpress/wp-login.php\n",
      "404 GET /mediawiki/index.php?title=Main_Page\n"
     ]
    }
   ],
   "source": [
    "apacheLog.apache_proc(\"../../logs/access.log\", \"apache\", \"php\")"
   ]
  },
  {
   "cell_type": "code",
   "execution_count": 22,
   "metadata": {},
   "outputs": [
    {
     "name": "stdout",
     "output_type": "stream",
     "text": [
      "404 POST /cgi-bin/test-cgi\n",
      "404 GET /cgi-bin/test-cgi\n",
      "404 GET /cgi-bin/htsearch?Exclude=%60/etc/passwd%60\n"
     ]
    }
   ],
   "source": [
    "apacheLog.apache_proc(\"../../logs/access.log\", \"apache\", \"cgi\")"
   ]
  },
  {
   "cell_type": "markdown",
   "metadata": {},
   "source": [
    "## QQ Threats"
   ]
  },
  {
   "cell_type": "code",
   "execution_count": 23,
   "metadata": {},
   "outputs": [
    {
     "name": "stdout",
     "output_type": "stream",
     "text": [
      "QQ.exe 2052.flash2-http.qq.com:80 app sent466 has recieved125682\n",
      "QQExternal.exe proxy.cse.cuhk.edu.hk:5070 app sent1644 has recieved388\n",
      "QQ.exe showxml.qq.com:80 app sent600 has recieved1716\n",
      "QQ.exe tcpconn3.tencent.com:80 app sent0 has recieved0\n",
      "QQ.exe qqmail.tencent.com:80 app sent336 has recieved2854\n",
      "QQProtectUpd.exe qdun-data.qq.com:443 app sent261 has recieved70\n",
      "QQ.exe tcpconn6.tencent.com:443 app sent0 has recieved0\n",
      "QQ.exe tcpconn.tencent.com:80 app sent133 has recieved0\n",
      "QQ.exe tcpconn6.tencent.com:80 app sent0 has recieved0\n",
      "QQ.exe cgi.qqweb.qq.com:80 app sent477 has recieved448\n",
      "QQ.exe tcpconn3.tencent.com:443 app sent149 has recieved121\n"
     ]
    }
   ],
   "source": [
    "proxiLog.log_scan(\"../../logs/Proxifier_2k.log\", \"proxifier\", \"qqbytes\")\n"
   ]
  },
  {
   "cell_type": "markdown",
   "metadata": {},
   "source": [
    "## QQ Connections Found"
   ]
  },
  {
   "cell_type": "code",
   "execution_count": 24,
   "metadata": {},
   "outputs": [
    {
     "name": "stdout",
     "output_type": "stream",
     "text": [
      "QQProtectUpd.exe opened to qdun-data.qq.com:443 with HTTPS\n",
      "QQPlayer.exe opened to btrace.qq.com:80 with HTTPS\n",
      "QQ.exe opened to tcpconn6.tencent.com:80 with HTTPS\n",
      "QQ.exe opened to cgi.qqweb.qq.com:80 with HTTPS\n",
      "QQ.exe opened to tcpconn6.tencent.com:443 with HTTPS\n",
      "QQ.exe opened to 183.60.49.182:443 with HTTPS\n",
      "QQ.exe opened to tcpconn3.tencent.com:443 with HTTPS\n",
      "QQ.exe opened to tcpconn.tencent.com:80 with HTTPS\n"
     ]
    }
   ],
   "source": [
    "proxiLog.log_scan(\"../../logs/Proxifier_2k.log\", \"proxifier\", \"qqopen\")\n"
   ]
  }
 ],
 "metadata": {
  "interpreter": {
   "hash": "6cce7a11eb1f5fbdd133df8c9eee7ee16ffe32d4c2d1ab011a916b0b7f717919"
  },
  "kernelspec": {
   "display_name": "Python 3.9.0 64-bit",
   "language": "python",
   "name": "python3"
  },
  "language_info": {
   "codemirror_mode": {
    "name": "ipython",
    "version": 3
   },
   "file_extension": ".py",
   "mimetype": "text/x-python",
   "name": "python",
   "nbconvert_exporter": "python",
   "pygments_lexer": "ipython3",
   "version": "3.9.10"
  },
  "orig_nbformat": 4
 },
 "nbformat": 4,
 "nbformat_minor": 2
}
