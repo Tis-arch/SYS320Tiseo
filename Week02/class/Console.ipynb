{
 "cells": [
  {
   "cell_type": "code",
   "execution_count": 6,
   "metadata": {},
   "outputs": [
    {
     "data": {
      "text/plain": [
       "<module 'apacheLog' from 'c:\\\\Users\\\\johnt\\\\Documents\\\\GitHub\\\\SYS320Tiseo\\\\Week02\\\\class\\\\apacheLog.py'>"
      ]
     },
     "execution_count": 6,
     "metadata": {},
     "output_type": "execute_result"
    }
   ],
   "source": [
    "import importlib\n",
    "import apacheLog\n",
    "importlib.reload(apacheLog)"
   ]
  },
  {
   "cell_type": "markdown",
   "metadata": {},
   "source": [
    "# Checking SYstem Logs"
   ]
  },
  {
   "cell_type": "markdown",
   "metadata": {},
   "source": [
    "### Apache Logs"
   ]
  },
  {
   "cell_type": "code",
   "execution_count": 7,
   "metadata": {},
   "outputs": [
    {
     "name": "stdout",
     "output_type": "stream",
     "text": [
      "404 GET /mediawiki/index.php?title=Main_Page\n",
      "404 GET /wordpress/wp-login.php\n"
     ]
    }
   ],
   "source": [
    "apacheLog.apache_events(\"../../logs/access.log\", \"apache\", \"php\")\n"
   ]
  },
  {
   "cell_type": "code",
   "execution_count": 8,
   "metadata": {},
   "outputs": [
    {
     "name": "stdout",
     "output_type": "stream",
     "text": [
      "404 POST /cgi-bin/test-cgi\n",
      "404 GET /cgi-bin/htsearch?Exclude=%60/etc/passwd%60\n",
      "404 GET /cgi-bin/test-cgi\n"
     ]
    }
   ],
   "source": [
    "apacheLog.apache_events(\"../../logs/access.log\", \"apache\", \"cgi\")"
   ]
  }
 ],
 "metadata": {
  "interpreter": {
   "hash": "878a599affc29d4e9b2991f292d6aefdef65b6ce1b2db1566cced1d3ef971a4a"
  },
  "kernelspec": {
   "display_name": "Python 3.9.10 64-bit (windows store)",
   "language": "python",
   "name": "python3"
  },
  "language_info": {
   "codemirror_mode": {
    "name": "ipython",
    "version": 3
   },
   "file_extension": ".py",
   "mimetype": "text/x-python",
   "name": "python",
   "nbconvert_exporter": "python",
   "pygments_lexer": "ipython3",
   "version": "3.9.10"
  },
  "orig_nbformat": 4
 },
 "nbformat": 4,
 "nbformat_minor": 2
}
