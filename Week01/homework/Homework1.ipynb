{
 "cells": [
  {
   "cell_type": "code",
   "execution_count": 5,
   "metadata": {},
   "outputs": [
    {
     "data": {
      "text/plain": [
       "<module 'sysLogUsers' from 'c:\\\\Users\\\\johnt\\\\Documents\\\\GitHub\\\\SYS320Tiseo\\\\Week01\\\\homework\\\\sysLogUsers.py'>"
      ]
     },
     "execution_count": 5,
     "metadata": {},
     "output_type": "execute_result"
    }
   ],
   "source": [
    "import sysKloginFail\n",
    "import sysLogUsers\n",
    "import importlib\n",
    "importlib.reload(sysKloginFail)\n",
    "importlib.reload(sysLogUsers)"
   ]
  },
  {
   "cell_type": "markdown",
   "metadata": {},
   "source": [
    "### Review System Logs"
   ]
  },
  {
   "cell_type": "markdown",
   "metadata": {},
   "source": [
    "Klogind Fail"
   ]
  },
  {
   "cell_type": "code",
   "execution_count": 6,
   "metadata": {},
   "outputs": [
    {
     "name": "stdout",
     "output_type": "stream",
     "text": [
      "163.27.187.39. Failure reason: Permission denied\n",
      "163.27.187.39. Failure reason: Software caused\n"
     ]
    }
   ],
   "source": [
    "sysKloginFail.klogin_failure('../../logs/Linux_2k.log', ['klogind\\[[0-9]{3,8}\\]: Authentication failed from.*'])\n"
   ]
  },
  {
   "cell_type": "markdown",
   "metadata": {},
   "source": [
    "SSH Success"
   ]
  },
  {
   "cell_type": "code",
   "execution_count": 7,
   "metadata": {},
   "outputs": [
    {
     "name": "stdout",
     "output_type": "stream",
     "text": [
      "test\n"
     ]
    }
   ],
   "source": [
    "sysLogUsers.ssh_success('../../logs/Linux_2k.log', ['sshd\\(pam_unix\\).*session opened for user.*'])\n"
   ]
  }
 ],
 "metadata": {
  "interpreter": {
   "hash": "6cce7a11eb1f5fbdd133df8c9eee7ee16ffe32d4c2d1ab011a916b0b7f717919"
  },
  "kernelspec": {
   "display_name": "Python 3.9.0 64-bit",
   "language": "python",
   "name": "python3"
  },
  "language_info": {
   "codemirror_mode": {
    "name": "ipython",
    "version": 3
   },
   "file_extension": ".py",
   "mimetype": "text/x-python",
   "name": "python",
   "nbconvert_exporter": "python",
   "pygments_lexer": "ipython3",
   "version": "3.9.0"
  },
  "orig_nbformat": 4
 },
 "nbformat": 4,
 "nbformat_minor": 2
}
