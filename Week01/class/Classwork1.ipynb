{
 "cells": [
  {
   "cell_type": "code",
   "execution_count": 54,
   "metadata": {},
   "outputs": [],
   "source": [
    "#Interface to use for searching through system log (.log) files.\n",
    "import re"
   ]
  },
  {
   "cell_type": "code",
   "execution_count": 55,
   "metadata": {},
   "outputs": [],
   "source": [
    "#Open file, smallSyslog.log here\n",
    "with open('../../logs/smallSyslog.log') as f:\n",
    "\n",
    "    #Read file contents, ability to save them as variable.\n",
    "    contents = f.readlines()"
   ]
  },
  {
   "cell_type": "code",
   "execution_count": 56,
   "metadata": {},
   "outputs": [
    {
     "name": "stdout",
     "output_type": "stream",
     "text": [
      "['Jun 15 02:04:59 combo sshd(pam_unix)[20897]: authentication failure; logname= uid=0 euid=0 tty=NODEVssh ruser= rhost=220-135-151-1.hinet-ip.hinet.net  user=root\\n', 'Jun 15 02:04:59 combo sshd(pam_unix)[20898]: authentication failure; logname= uid=0 euid=0 tty=NODEVssh ruser= rhost=220-135-151-1.hinet-ip.hinet.net  user=root\\n', 'Jun 15 04:06:18 combo su(pam_unix)[21416]: session opened for user cyrus by (uid=0)\\n', 'Jun 15 04:06:19 combo su(pam_unix)[21416]: session closed for user cyrus\\n', 'Jun 15 04:06:20 combo logrotate: ALERT exited abnormally with [1]\\n', 'Jun 15 04:12:42 combo su(pam_unix)[22644]: session opened for user news by (uid=0)\\n', 'Jun 15 04:12:43 combo su(pam_unix)[22644]: session closed for user news\\n', 'Jun 15 12:12:34 combo sshd(pam_unix)[23397]: check pass; user unknown\\n', 'Jun 15 12:12:34 combo sshd(pam_unix)[23397]: authentication failure; logname= uid=0 euid=0 tty=NODEVssh ruser= rhost=218.188.2.4 ']\n"
     ]
    }
   ],
   "source": [
    "print(contents)"
   ]
  },
  {
   "cell_type": "code",
   "execution_count": 57,
   "metadata": {},
   "outputs": [],
   "source": [
    "#Keywords of interest stored in variable for automation and ease of observation of .log file.\n",
    "keywords = ['failure','session opened for user.*','exited abnormally','sshd\\(pam_unix\\)\\[[0-9]{3,8}\\]: authentication failure;',]"
   ]
  },
  {
   "cell_type": "code",
   "execution_count": 58,
   "metadata": {},
   "outputs": [
    {
     "name": "stdout",
     "output_type": "stream",
     "text": [
      "['failure']\n",
      "[]\n",
      "[]\n",
      "[]\n",
      "['failure']\n",
      "[]\n",
      "[]\n",
      "[]\n",
      "[]\n",
      "['session opened for user cyrus by (uid=0)']\n",
      "[]\n",
      "[]\n",
      "[]\n",
      "[]\n",
      "[]\n",
      "[]\n",
      "[]\n",
      "[]\n",
      "['exited abnormally']\n",
      "[]\n",
      "[]\n",
      "['session opened for user news by (uid=0)']\n",
      "[]\n",
      "[]\n",
      "[]\n",
      "[]\n",
      "[]\n",
      "[]\n",
      "[]\n",
      "[]\n",
      "[]\n",
      "[]\n",
      "['failure']\n",
      "[]\n",
      "[]\n",
      "[]\n"
     ]
    }
   ],
   "source": [
    "#Loop through retuned log file contents. Each element is a line from the smallSyslog file.\n",
    "for line in contents:\n",
    "    #Keywords are sifted through to pluck out lines of interest.\n",
    "    for eachKeyword in keywords:\n",
    "\n",
    "    #Search for specific terms in .log file by modifying contents of eachKeyword's keywords.\n",
    "        #if eachKeyword in line:\n",
    "        #Searches and returns using regular expressions, wowie!\n",
    "        x= re.findall(r''+eachKeyword+'', line)\n",
    "        print(x)"
   ]
  }
 ],
 "metadata": {
  "interpreter": {
   "hash": "6cce7a11eb1f5fbdd133df8c9eee7ee16ffe32d4c2d1ab011a916b0b7f717919"
  },
  "kernelspec": {
   "display_name": "Python 3.9.0 64-bit",
   "language": "python",
   "name": "python3"
  },
  "language_info": {
   "codemirror_mode": {
    "name": "ipython",
    "version": 3
   },
   "file_extension": ".py",
   "mimetype": "text/x-python",
   "name": "python",
   "nbconvert_exporter": "python",
   "pygments_lexer": "ipython3",
   "version": "3.9.0"
  },
  "orig_nbformat": 4
 },
 "nbformat": 4,
 "nbformat_minor": 2
}
