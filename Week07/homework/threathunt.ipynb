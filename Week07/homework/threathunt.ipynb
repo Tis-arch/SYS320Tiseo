{
 "cells": [
  {
   "cell_type": "markdown",
   "metadata": {
    "collapsed": false
   },
   "source": [
    "### SSH setup"
   ]
  },
  {
   "cell_type": "code",
   "execution_count": 87,
   "metadata": {
    "collapsed": true
   },
   "outputs": [],
   "source": [
    "# import the modules\n",
    "import paramiko\n",
    "from getpass import getpass\n",
    "import os\n",
    "\n",
    "\n",
    "# Check to see if result text files exists\n",
    "rootdir = 'results'\n",
    "fList = []\n",
    "# Crawl through the provided directory\n",
    "for root, subfolders, filenames in os.walk(rootdir):\n",
    "    for f in filenames:\n",
    "        fileList = root + \"/\" + f\n",
    "        fList.append(fileList)\n",
    "\n",
    "import paramiko\n",
    "from getpass import getpass\n",
    "import os, os.path\n",
    "\n",
    "# Check to see if ssh_results file exists\n",
    "if os.path.exists('ssh_results.txt'):\n",
    "    # Ask user to delete the file (not overwrite)\n",
    "    user_input = input(\"There is a file under that name already. Want to delete it, sire? (y/n) \")\n",
    "    # If yes, deletes the file.\n",
    "    if user_input == \"y\":\n",
    "        os.remove('ssh_results.txt')\n",
    "\n",
    "\n",
    "\n",
    "# Creates the password prompt\n",
    "thePass = getpass(prompt=\"Please enter your SSH password.\")\n",
    "\n",
    "# Host information\n",
    "host = \"192.168.6.71\"\n",
    "port = 2222\n",
    "username = \"john.tiseo\"\n",
    "password = thePass\n",
    "\n",
    "try :\n",
    "    ssh = paramiko.SSHClient()\n",
    "    ssh.set_missing_host_key_policy(paramiko.AutoAddPolicy())\n",
    "    ssh.connect(host,port,username,password)\n",
    "except paramiko.AuthenticationException:\n",
    "    print (\"Authentication failed\")"
   ]
  },
  {
   "cell_type": "markdown",
   "metadata": {
    "collapsed": false
   },
   "source": [
    "### I figured out I can just put python functions in the book here, so this is a function that runs preset command lists and then saves the results to a file.\n"
   ]
  },
  {
   "cell_type": "code",
   "execution_count": 88,
   "metadata": {
    "collapsed": false,
    "pycharm": {
     "name": "#%%\n"
    }
   },
   "outputs": [],
   "source": [
    "def runCMDList(commandLists, passwd, outFile):\n",
    "\n",
    "    for eachCMD in commandLists:\n",
    "\n",
    "        # Get the output from the command\n",
    "        stdin, stdout, stderr = ssh.exec_command(eachCMD)\n",
    "        # Password input\n",
    "        stdin.write(passwd + \"\\n\")\n",
    "        # Get results from stdout command\n",
    "        lines = stdout.readlines()\n",
    "        # Convert list to string\n",
    "        output = ''.join(lines)\n",
    "        # Header\n",
    "        sepHeader = '' + '### BEGIN ' + eachCMD + ' ###\\n\\n'\n",
    "        # Footer\n",
    "        sepFooter = '' + '### END ' + eachCMD  + ' ###\\n\\n'\n",
    "        # Concatenates the header, command, footer\n",
    "        cmd_output = sepHeader + output + sepFooter\n",
    "        # Saves cmd_output to a file\n",
    "        with open(outFile, 'a') as f:\n",
    "            f.write(cmd_output)\n",
    "        # Print results\n",
    "        print(cmd_output)"
   ]
  },
  {
   "cell_type": "code",
   "execution_count": 89,
   "metadata": {
    "collapsed": false,
    "pycharm": {
     "name": "#%%\n"
    }
   },
   "outputs": [],
   "source": [
    "#Downloads file from remote to host systems\n",
    "def downloadFiles(files, downloadDirectory):\n",
    "    # Going through and downloading\n",
    "    for eachFile in files:\n",
    "        # Filename list\n",
    "        x = eachFile.split(\"/\")\n",
    "        # -1 for last element in order\n",
    "        filename = x[-1]\n",
    "        # Local path for file storage\n",
    "        local_path = str(downloadDirectory) +  \"/\" +str(filename)\n",
    "        # File grab\n",
    "        sftp.get(eachFile,local_path)\n"
   ]
  },
  {
   "cell_type": "markdown",
   "metadata": {
    "collapsed": false,
    "pycharm": {
     "name": "#%% md\n"
    }
   },
   "source": [
    "### Upload Kranken and run it against /usr/bin/, /usr/sbin, /usr/local/bin, and /usr/local/sbin"
   ]
  },
  {
   "cell_type": "code",
   "execution_count": 90,
   "metadata": {
    "collapsed": false,
    "pycharm": {
     "name": "#%%\n"
    }
   },
   "outputs": [
    {
     "name": "stdout",
     "output_type": "stream",
     "text": [
      "### BEGIN sudo -S chmod +x kraken ###\n",
      "\n",
      "### END sudo -S chmod +x kraken ###\n",
      "\n",
      "\n",
      "### BEGIN sudo -S /home/john.tiseo/kraken --folder /usr/bin --folder  --folder /usr/sbin/   --folder /usr/local/bin  --folder /sbin  --folder /usr/local/sbin  --folder /bin ###\n",
      "\n",
      "\u001b[36mINFO\u001b[0m[0000] Looking for configuration file with name config.yaml \n",
      "\u001b[36mINFO\u001b[0m[0000] No configuration file found, generating a default one... \n",
      "\u001b[36mINFO\u001b[0m[0000] Loading Yara rules...                        \n",
      "\u001b[36mINFO\u001b[0m[0000] Scanning running processes...                \n",
      "\u001b[33mWARN\u001b[0m[0004] DETECTION! Malicious process detected as foundGoBinary  \u001b[33mpid\u001b[0m=3138 \u001b[33mprocess\u001b[0m=ls\n",
      "\u001b[33mWARN\u001b[0m[0005] DETECTION! Malicious process detected as foundGoBinary  \u001b[33mpid\u001b[0m=25680 \u001b[33mprocess\u001b[0m=snapd\n",
      "\u001b[36mINFO\u001b[0m[0016] Scanning autoruns...                         \n",
      "\u001b[33mWARN\u001b[0m[0016] DETECTION! Malicious autorun detected as foundGoBinary  \u001b[33mimage_path\u001b[0m=/usr/bin/snap \u001b[33mtype\u001b[0m=systemd\n",
      "\u001b[33mWARN\u001b[0m[0017] DETECTION! Malicious autorun detected as foundGoBinary  \u001b[33mimage_path\u001b[0m=/usr/bin/snap \u001b[33mtype\u001b[0m=systemd\n",
      "\u001b[36mINFO\u001b[0m[0017] Scanning the filesystem (this can take several minutes)... \n",
      "\u001b[31mERRO\u001b[0m[0017] Some malicious artifacts have been detected on this system: \n",
      "\u001b[31mERRO\u001b[0m[0017] Found detection for foundGoBinary            \n",
      "\u001b[31mERRO\u001b[0m[0017] Found detection for foundGoBinary            \n",
      "\u001b[31mERRO\u001b[0m[0017] Found detection for foundGoBinary            \n",
      "\u001b[31mERRO\u001b[0m[0017] Found detection for foundGoBinary            \n",
      "### END sudo -S /home/john.tiseo/kraken --folder /usr/bin --folder  --folder /usr/sbin/   --folder /usr/local/bin  --folder /sbin  --folder /usr/local/sbin  --folder /bin ###\n",
      "\n",
      "\n"
     ]
    }
   ],
   "source": [
    "# start SFTP session\n",
    "sftp = ssh.open_sftp()\n",
    "# the local file on the system to upload\n",
    "localFile = \"kraken\"\n",
    "# the remote path to upload the file to\n",
    "remotePath = \"/home/john.tiseo/kraken\"\n",
    "# Push file from server to our path specified\n",
    "sftp.put(localFile, remotePath)\n",
    "# Run commands, so we own kraken and our folders\n",
    "command = ['sudo -S chmod +x kraken','sudo -S /home/john.tiseo/kraken --folder /usr/bin --folder  --folder /usr/sbin/   --folder /usr/local/bin  --folder /sbin  --folder /usr/local/sbin  --folder /bin']\n",
    "# File for output\n",
    "output = \"krakenR.txt\"\n",
    "# Run commands\n",
    "runCMDList(command,thePass,output)"
   ]
  },
  {
   "cell_type": "markdown",
   "metadata": {
    "collapsed": false
   },
   "source": [
    "### Look for malicious PIDs we found in last step"
   ]
  },
  {
   "cell_type": "code",
   "execution_count": 91,
   "metadata": {
    "collapsed": false,
    "pycharm": {
     "name": "#%%\n"
    }
   },
   "outputs": [
    {
     "name": "stdout",
     "output_type": "stream",
     "text": [
      "### BEGIN sudo -S lsof -p3138 ###\n",
      "\n",
      "COMMAND  PID     USER   FD      TYPE DEVICE SIZE/OFF   NODE NAME\n",
      "ls      3138 p.dalton  cwd       DIR    8,1     4096 258130 /home/p.dalton/test-lk\n",
      "ls      3138 p.dalton  rtd       DIR    8,1     4096      2 /\n",
      "ls      3138 p.dalton  txt       REG    8,1  6597697 258133 /usr/local/bin/ls\n",
      "ls      3138 p.dalton  DEL       REG    8,1            3453 /usr/lib/x86_64-linux-gnu/libc-2.31.so\n",
      "ls      3138 p.dalton  DEL       REG    8,1            3466 /usr/lib/x86_64-linux-gnu/libpthread-2.31.so\n",
      "ls      3138 p.dalton  DEL       REG    8,1            3449 /usr/lib/x86_64-linux-gnu/ld-2.31.so\n",
      "ls      3138 p.dalton    0r      CHR    1,3      0t0      6 /dev/null\n",
      "ls      3138 p.dalton    1w      REG    8,1       85 258135 /home/p.dalton/test-lk/.d.log\n",
      "ls      3138 p.dalton    2w      REG    8,1       85 258135 /home/p.dalton/test-lk/.d.log\n",
      "ls      3138 p.dalton    3r      CHR    1,3      0t0      6 /dev/null\n",
      "ls      3138 p.dalton    4u      REG    8,1        4 258134 /home/p.dalton/test-lk/d.pid\n",
      "ls      3138 p.dalton    5u     IPv6  33422      0t0    TCP *:http-alt (LISTEN)\n",
      "ls      3138 p.dalton    7u  a_inode   0,14        0  10376 [eventpoll]\n",
      "ls      3138 p.dalton    8r     FIFO   0,13      0t0  33424 pipe\n",
      "ls      3138 p.dalton    9w     FIFO   0,13      0t0  33424 pipe\n",
      "### END sudo -S lsof -p3138 ###\n",
      "\n",
      "\n"
     ]
    }
   ],
   "source": [
    "# Our sus PID\n",
    "pid = 3138\n",
    "# Command execute\n",
    "command = [\"sudo -S lsof -p\" + str(pid)]\n",
    "# File for output\n",
    "output = \"lsofR.txt\"\n",
    "runCMDList(command,thePass,output)"
   ]
  },
  {
   "cell_type": "markdown",
   "metadata": {
    "collapsed": false
   },
   "source": [
    "### Download any suspicious files, binaries, or log files"
   ]
  },
  {
   "cell_type": "code",
   "execution_count": 92,
   "metadata": {
    "collapsed": false,
    "pycharm": {
     "name": "#%%\n"
    }
   },
   "outputs": [],
   "source": [
    "# Start SFTP session\n",
    "sftp = ssh.open_sftp()\n",
    "# List of files to download\n",
    "files = ['/home/p.dalton/test-lk/.d.log', '/home/p.dalton/test-lk/d.pid']\n",
    "# Directory to place files (with a z for the kool kidzzz)\n",
    "downloadDir = \"filez\"\n",
    "# DL files\n",
    "downloadFiles(files,downloadDir)"
   ]
  },
  {
   "cell_type": "markdown",
   "metadata": {
    "collapsed": false,
    "pycharm": {
     "name": "#%% md\n"
    }
   },
   "source": [
    "### Check running processes, /etc/passwd, and /var/log/auth.log"
   ]
  },
  {
   "cell_type": "code",
   "execution_count": 93,
   "metadata": {
    "collapsed": false,
    "pycharm": {
     "name": "#%%\n"
    }
   },
   "outputs": [
    {
     "name": "stdout",
     "output_type": "stream",
     "text": [
      "### BEGIN sudo -S ps aux ###\n",
      "\n",
      "USER         PID %CPU %MEM    VSZ   RSS TTY      STAT START   TIME COMMAND\n",
      "root           1  0.0  0.6 103332 103320 ?       Ss   Feb26   0:34 /sbin/init\n",
      "root           2  0.0  0.0      0     0 ?        S    Feb26   0:00 [kthreadd]\n",
      "root           3  0.0  0.0      0     0 ?        I<   Feb26   0:00 [rcu_gp]\n",
      "root           4  0.0  0.0      0     0 ?        I<   Feb26   0:00 [rcu_par_gp]\n",
      "root           6  0.0  0.0      0     0 ?        I<   Feb26   0:00 [kworker/0:0H-kblockd]\n",
      "root           8  0.0  0.0      0     0 ?        I<   Feb26   0:00 [mm_percpu_wq]\n",
      "root           9  0.0  0.0      0     0 ?        S    Feb26   0:02 [ksoftirqd/0]\n",
      "root          10  0.0  0.0      0     0 ?        I    Feb26   0:34 [rcu_sched]\n",
      "root          11  0.0  0.0      0     0 ?        S    Feb26   0:07 [migration/0]\n",
      "root          12  0.0  0.0      0     0 ?        S    Feb26   0:00 [idle_inject/0]\n",
      "root          14  0.0  0.0      0     0 ?        S    Feb26   0:00 [cpuhp/0]\n",
      "root          15  0.0  0.0      0     0 ?        S    Feb26   0:00 [kdevtmpfs]\n",
      "root          16  0.0  0.0      0     0 ?        I<   Feb26   0:00 [netns]\n",
      "root          17  0.0  0.0      0     0 ?        S    Feb26   0:00 [rcu_tasks_kthre]\n",
      "root          18  0.0  0.0      0     0 ?        S    Feb26   0:00 [kauditd]\n",
      "root          19  0.0  0.0      0     0 ?        S    Feb26   0:00 [khungtaskd]\n",
      "root          20  0.0  0.0      0     0 ?        S    Feb26   0:00 [oom_reaper]\n",
      "root          21  0.0  0.0      0     0 ?        I<   Feb26   0:00 [writeback]\n",
      "root          22  0.0  0.0      0     0 ?        S    Feb26   0:00 [kcompactd0]\n",
      "root          23  0.0  0.0      0     0 ?        SN   Feb26   0:00 [ksmd]\n",
      "root          24  0.0  0.0      0     0 ?        SN   Feb26   0:00 [khugepaged]\n",
      "root          70  0.0  0.0      0     0 ?        I<   Feb26   0:00 [kintegrityd]\n",
      "root          71  0.0  0.0      0     0 ?        I<   Feb26   0:00 [kblockd]\n",
      "root          72  0.0  0.0      0     0 ?        I<   Feb26   0:00 [blkcg_punt_bio]\n",
      "root          73  0.0  0.0      0     0 ?        I<   Feb26   0:00 [tpm_dev_wq]\n",
      "root          74  0.0  0.0      0     0 ?        I<   Feb26   0:00 [ata_sff]\n",
      "root          75  0.0  0.0      0     0 ?        I<   Feb26   0:00 [md]\n",
      "root          76  0.0  0.0      0     0 ?        I<   Feb26   0:00 [edac-poller]\n",
      "root          77  0.0  0.0      0     0 ?        I<   Feb26   0:00 [devfreq_wq]\n",
      "root          78  0.0  0.0      0     0 ?        S    Feb26   0:00 [watchdogd]\n",
      "root          81  0.0  0.0      0     0 ?        S    Feb26   0:00 [kswapd0]\n",
      "root          82  0.0  0.0      0     0 ?        S    Feb26   0:00 [ecryptfs-kthrea]\n",
      "root          84  0.0  0.0      0     0 ?        I<   Feb26   0:00 [kthrotld]\n",
      "root          85  0.0  0.0      0     0 ?        I<   Feb26   0:00 [acpi_thermal_pm]\n",
      "root          86  0.0  0.0      0     0 ?        S    Feb26   0:00 [scsi_eh_0]\n",
      "root          87  0.0  0.0      0     0 ?        I<   Feb26   0:00 [scsi_tmf_0]\n",
      "root          88  0.0  0.0      0     0 ?        S    Feb26   0:00 [scsi_eh_1]\n",
      "root          89  0.0  0.0      0     0 ?        I<   Feb26   0:00 [scsi_tmf_1]\n",
      "root          91  0.0  0.0      0     0 ?        I<   Feb26   0:00 [vfio-irqfd-clea]\n",
      "root          92  0.0  0.0      0     0 ?        I<   Feb26   0:00 [ipv6_addrconf]\n",
      "root         102  0.0  0.0      0     0 ?        I<   Feb26   0:00 [kstrp]\n",
      "root         105  0.0  0.0      0     0 ?        I<   Feb26   0:00 [kworker/u3:0]\n",
      "root         118  0.0  0.0      0     0 ?        I<   Feb26   0:00 [charger_manager]\n",
      "root         160  0.0  0.0      0     0 ?        I<   Feb26   0:05 [kworker/0:1H-kblockd]\n",
      "root         161  0.0  0.0      0     0 ?        S    Feb26   0:00 [scsi_eh_2]\n",
      "root         162  0.0  0.0      0     0 ?        I<   Feb26   0:00 [scsi_tmf_2]\n",
      "root         165  0.0  0.0      0     0 ?        I<   Feb26   0:00 [cryptd]\n",
      "root         232  0.0  0.0      0     0 ?        I<   Feb26   0:00 [raid5wq]\n",
      "root         272  0.0  0.0      0     0 ?        S    Feb26   0:02 [jbd2/sda1-8]\n",
      "root         273  0.0  0.0      0     0 ?        I<   Feb26   0:00 [ext4-rsv-conver]\n",
      "root         345  0.0  1.1 183016 183004 ?       S<s  Feb26   0:06 /lib/systemd/systemd-journald\n",
      "root         377  0.0  0.1  18976 18964 ?        Ss   Feb26   0:05 /lib/systemd/systemd-udevd\n",
      "root         476  0.0  0.0      0     0 ?        I<   Feb26   0:00 [kaluad]\n",
      "root         477  0.0  0.0      0     0 ?        I<   Feb26   0:00 [kmpath_rdacd]\n",
      "root         478  0.0  0.0      0     0 ?        I<   Feb26   0:00 [kmpathd]\n",
      "root         479  0.0  0.0      0     0 ?        I<   Feb26   0:00 [kmpath_handlerd]\n",
      "root         480  0.0  1.7 280200 279648 ?       SLsl Feb26   1:14 /sbin/multipathd -d -s\n",
      "root         491  0.0  0.0      0     0 ?        S<   Feb26   0:00 [loop0]\n",
      "root         494  0.0  0.0      0     0 ?        S<   Feb26   0:00 [loop2]\n",
      "systemd+     515  0.0  0.5  90232 90144 ?        Ssl  Feb26   0:02 /lib/systemd/systemd-timesyncd\n",
      "systemd+     595  0.0  0.1  23900 23780 ?        Ss   Feb26   0:02 /lib/systemd/systemd-resolved\n",
      "root         706  0.0  1.4 241168 240992 ?       Ssl  Feb26   0:22 /usr/lib/accountsservice/accounts-daemon\n",
      "message+     714  0.0  0.0   8012  8000 ?        Ss   Feb26   0:04 /usr/bin/dbus-daemon --system --address=systemd: --nofork --nopidfile --systemd-activation --syslog-only\n",
      "root         720  0.0  0.1  29196 29156 ?        Ss   Feb26   0:00 /usr/bin/python3 /usr/bin/networkd-dispatcher --run-startup-triggers\n",
      "syslog       723  0.0  1.3 224348 219996 ?       Ssl  Feb26   0:01 /usr/sbin/rsyslogd -n -iNONE\n",
      "root         725  0.0  0.1  18056 18044 ?        Ss   Feb26   0:04 /lib/systemd/systemd-logind\n",
      "root         727  0.0  2.3 394920 392824 ?       Ssl  Feb26   0:01 /usr/lib/udisks2/udisksd\n",
      "daemon       728  0.0  0.0   3792  3772 ?        Ss   Feb26   0:00 /usr/sbin/atd -f\n",
      "root         771  0.0  0.0   7352  7296 ttyS0    Ss+  Feb26   0:00 /sbin/agetty -o -p -- \\u --keep-baud 115200,38400,9600 ttyS0 vt220\n",
      "root         775  0.0  0.0   5828  5768 tty1     Ss+  Feb26   0:00 /sbin/agetty -o -p -- \\u --noclear tty1 linux\n",
      "root         789  0.0  0.6 108108 107952 ?       Ssl  Feb26   0:00 /usr/bin/python3 /usr/share/unattended-upgrades/unattended-upgrade-shutdown --wait-for-signal\n",
      "p.dalton    3025  0.0  0.1  18408 18352 ?        Ss   Feb26   0:00 /lib/systemd/systemd --user\n",
      "p.dalton    3027  0.0  0.6 104268 104256 ?       S    Feb26   0:00 (sd-pam)\n",
      "p.dalton    3138  0.0  0.0 1003532 4892 ?        Ssl  Feb26   0:01 [go-daemon sample]\n",
      "root        3363  0.0  0.0      0     0 ?        S<   Feb26   0:00 [spl_system_task]\n",
      "root        3364  0.0  0.0      0     0 ?        S<   Feb26   0:00 [spl_delay_taskq]\n",
      "root        3365  0.0  0.0      0     0 ?        S<   Feb26   0:00 [spl_dynamic_tas]\n",
      "root        3366  0.0  0.0      0     0 ?        S<   Feb26   0:00 [spl_kmem_cache]\n",
      "root        3395  0.0  0.0      0     0 ?        S<   Feb26   0:00 [zvol]\n",
      "root        3396  0.0  0.0      0     0 ?        S    Feb26   0:00 [arc_prune]\n",
      "root        3397  0.0  0.0      0     0 ?        SN   Feb26   0:00 [zthr_procedure]\n",
      "root        3398  0.0  0.0      0     0 ?        SN   Feb26   0:24 [zthr_procedure]\n",
      "root        3399  0.0  0.0      0     0 ?        S    Feb26   0:00 [dbu_evict]\n",
      "root        3400  0.0  0.0      0     0 ?        SN   Feb26   0:23 [dbuf_evict]\n",
      "root        3401  0.0  0.0      0     0 ?        SN   Feb26   0:00 [z_vdev_file]\n",
      "root        3402  0.0  0.0      0     0 ?        S    Feb26   0:18 [l2arc_feed]\n",
      "ubuntu     15253  0.0  0.1  18412 18368 ?        Ss   Feb27   0:00 /lib/systemd/systemd --user\n",
      "ubuntu     15261  0.0  0.6 104268 104256 ?       S    Feb27   0:00 (sd-pam)\n",
      "root       15949  0.0  0.0      0     0 ?        S<   Feb27   0:00 [loop3]\n",
      "root       16031  0.0  0.0      0     0 ?        S<   Feb27   0:00 [loop4]\n",
      "root       16271  0.0  0.0      0     0 ?        S<   Feb27   0:00 [loop5]\n",
      "root       23279  0.0  0.0      0     0 ?        I<   Feb28   0:00 [xfsalloc]\n",
      "root       23280  0.0  0.0      0     0 ?        I<   Feb28   0:00 [xfs_mru_cache]\n",
      "uuidd      24811  0.0  0.0   9748  9664 ?        Ss   Feb28   0:00 /usr/sbin/uuidd --socket-activation\n",
      "root       25680  0.0  0.2 742332 48468 ?        Ssl  Feb28   1:02 /usr/lib/snapd/snapd\n",
      "root       34879  0.0  1.4 238704 238556 ?       Ssl  Mar02   0:00 /usr/lib/policykit-1/polkitd --no-debug\n",
      "systemd+   36633  0.0  0.1  26576 26424 ?        Ss   Mar02   0:05 /lib/systemd/systemd-networkd\n",
      "root       38803  0.0  0.2  40876 40788 ?        Ss   Mar02   0:00 /usr/sbin/oddjobd -n -p /var/run/oddjobd.pid -t 300\n",
      "root       40152  0.0  2.0 373216 343416 ?       Sl   Mar02   0:00 /opt/pbis/sbin/lwsmd --start-as-daemon\n",
      "root       40160  0.0  3.4 595008 558028 ?       Sl   Mar02   1:16 lw-container lwreg\n",
      "root       40188  0.0  1.7 328824 294904 ?       Sl   Mar02   0:00 lw-container eventlog\n",
      "root       40200  0.0  2.9 521928 491088 ?       Sl   Mar02   0:09 lw-container netlogon\n",
      "root       40210  0.0  3.4 598840 557956 ?       Sl   Mar02   0:00 lw-container lwio\n",
      "root       40223  0.0  4.7 836452 781836 ?       Sl   Mar02   2:06 lw-container lsass\n",
      "root       40237  0.0  2.1 395216 360272 ?       Sl   Mar02   0:00 lw-container reapsysl\n",
      "root       40406  0.0  0.0   8536  8524 ?        Ss   Mar02   0:01 /usr/sbin/cron -f\n",
      "root       40420  0.0  0.0  12176 12164 ?        Ss   Mar02   0:00 sshd: /usr/sbin/sshd -D [listener] 0 of 10-100 startups\n",
      "root       83827  0.0  0.0  24676 15728 ?        Ss   Mar05   0:00 sshd: ubuntu [priv]\n",
      "ubuntu     83939  0.0  0.0  24932 16004 ?        S    Mar05   0:00 sshd: ubuntu@pts/1\n",
      "ubuntu     83940  0.0  0.0  10112 10100 pts/1    Ss+  Mar05   0:00 bash\n",
      "root      110198  0.0  0.0  24932 16004 ?        Ss   18:14   0:00 sshd: ciaran.byrne [priv]\n",
      "ciaran.+  110281  0.0  0.0  24932 16004 ?        S    18:14   0:00 sshd: ciaran.byrne@pts/0\n",
      "ciaran.+  110282  0.0  0.0  20144 12236 pts/0    Ss+  18:14   0:00 -bash\n",
      "root      114316  0.0  0.0  24948 16000 ?        Ss   19:23   0:00 sshd: john.tiseo [priv]\n",
      "john.ti+  114389  0.0  0.0  24948 16008 ?        S    19:23   0:00 sshd: john.tiseo\n",
      "root      115044  0.0  0.0  24952 16024 ?        Ss   19:36   0:00 sshd: ciaran.byrne [priv]\n",
      "ciaran.+  115123  0.0  0.0  24952 16024 ?        S    19:36   0:01 sshd: ciaran.byrne@notty\n",
      "root      115169  0.0  0.0      0     0 ?        I    19:40   0:00 [kworker/0:1-cgroup_destroy]\n",
      "root      116323  0.0  0.0      0     0 ?        I    20:19   0:01 [kworker/0:2-events]\n",
      "ciaran.+  116423  0.0  0.0  15844  7820 ?        Ss   20:20   0:00 /usr/lib/openssh/sftp-server\n",
      "root      116849  0.0  0.0  24924 15968 ?        Ss   20:29   0:00 sshd: samuel.barrows [priv]\n",
      "samuel.+  116922  0.0  0.0  25172 16244 ?        S    20:29   0:00 sshd: samuel.barrows@notty\n",
      "samuel.+  116942  0.0  0.0  15844  7840 ?        Ss   20:29   0:00 /usr/lib/openssh/sftp-server\n",
      "root      119036  0.0  0.0  24952 15996 ?        Ss   21:04   0:00 sshd: john.tiseo [priv]\n",
      "john.ti+  119117  0.0  0.0  24952 15964 ?        S    21:04   0:00 sshd: john.tiseo@notty\n",
      "john.ti+  119118  0.0  0.0  15844  7836 ?        Ss   21:04   0:00 /usr/lib/openssh/sftp-server\n",
      "root      119524  0.0  0.0  24948 16000 ?        Ss   21:07   0:00 sshd: john.tiseo [priv]\n",
      "john.ti+  119619  0.0  0.0  24948 16020 ?        S    21:07   0:00 sshd: john.tiseo@notty\n",
      "root      120397  0.0  0.0      0     0 ?        I    21:15   0:00 [kworker/u2:0-events_freezable_power_]\n",
      "root      120470  0.0  0.0  24952 16004 ?        Ss   21:15   0:00 sshd: john.tiseo [priv]\n",
      "john.ti+  120543  0.0  0.0  24952 16024 ?        S    21:15   0:00 sshd: john.tiseo@notty\n",
      "root      120667  0.0  0.0  24948 15992 ?        Ss   21:17   0:00 sshd: john.tiseo [priv]\n",
      "john.ti+  120743  0.0  0.0  24948 16020 ?        S    21:17   0:00 sshd: john.tiseo@notty\n",
      "root      121708  0.0  0.0  24952 15996 ?        Ss   21:27   0:00 sshd: john.tiseo [priv]\n",
      "john.ti+  121826  0.0  0.0  24952 16024 ?        S    21:27   0:00 sshd: john.tiseo@notty\n",
      "root      121918  0.0  0.0  24948 16000 ?        Ss   21:35   0:00 sshd: john.tiseo [priv]\n",
      "john.ti+  121996  0.0  0.0  25092 16148 ?        S    21:35   0:00 sshd: john.tiseo@notty\n",
      "john.ti+  122011  0.0  0.0  15844  7788 ?        Ss   21:35   0:00 /usr/lib/openssh/sftp-server\n",
      "root      122124  0.0  0.0      0     0 ?        I    21:43   0:00 [kworker/u2:2-events_power_efficient]\n",
      "root      122135  0.0  0.0  24952 15996 ?        Ss   21:47   0:00 sshd: john.tiseo [priv]\n",
      "john.ti+  122214  0.0  0.0  25296 16336 ?        S    21:47   0:00 sshd: john.tiseo@notty\n",
      "john.ti+  122229  0.0  0.0  15844  7784 ?        Ss   21:48   0:00 /usr/lib/openssh/sftp-server\n",
      "root      122274  0.0  0.0      0     0 ?        I    21:57   0:00 [kworker/u2:1-events_power_efficient]\n",
      "root      122297  0.1  0.0  24948 16000 ?        Ss   22:01   0:00 sshd: john.tiseo [priv]\n",
      "john.ti+  122375  1.0  0.0  24948 16020 ?        S    22:01   0:00 sshd: john.tiseo@notty\n",
      "john.ti+  122390  0.0  0.0  15844  6120 ?        Ss   22:02   0:00 /usr/lib/openssh/sftp-server\n",
      "root      122391  0.0  0.0  22212  6336 ?        Ss   22:02   0:00 sudo -S ps aux\n",
      "root      122392  0.0  0.0  20800  5016 ?        R    22:02   0:00 ps aux\n",
      "### END sudo -S ps aux ###\n",
      "\n",
      "\n",
      "### BEGIN sudo -S cp /var/log/auth.log . ###\n",
      "\n",
      "### END sudo -S cp /var/log/auth.log . ###\n",
      "\n",
      "\n",
      "### BEGIN sudo -S chmod +r auth.log ###\n",
      "\n",
      "### END sudo -S chmod +r auth.log ###\n",
      "\n",
      "\n",
      "### BEGIN dir /home/p.dalton/ ###\n",
      "\n",
      "aqwerpuqwerj  test-lk\n",
      "### END dir /home/p.dalton/ ###\n",
      "\n",
      "\n"
     ]
    },
    {
     "ename": "FileNotFoundError",
     "evalue": "[Errno 2] No such file",
     "output_type": "error",
     "traceback": [
      "\u001b[1;31m---------------------------------------------------------------------------\u001b[0m",
      "\u001b[1;31mFileNotFoundError\u001b[0m                         Traceback (most recent call last)",
      "\u001b[1;32mc:\\Users\\johnt\\Documents\\GitHub\\SYS320Tiseo\\Week07\\homework\\threathunt.ipynb Cell 13'\u001b[0m in \u001b[0;36m<module>\u001b[1;34m\u001b[0m\n\u001b[0;32m     <a href='vscode-notebook-cell:/c%3A/Users/johnt/Documents/GitHub/SYS320Tiseo/Week07/homework/threathunt.ipynb#ch0000013?line=11'>12</a>\u001b[0m downloadDir \u001b[39m=\u001b[39m \u001b[39m\"\u001b[39m\u001b[39mfilez\u001b[39m\u001b[39m\"\u001b[39m\n\u001b[0;32m     <a href='vscode-notebook-cell:/c%3A/Users/johnt/Documents/GitHub/SYS320Tiseo/Week07/homework/threathunt.ipynb#ch0000013?line=12'>13</a>\u001b[0m \u001b[39m# DL files\u001b[39;00m\n\u001b[1;32m---> <a href='vscode-notebook-cell:/c%3A/Users/johnt/Documents/GitHub/SYS320Tiseo/Week07/homework/threathunt.ipynb#ch0000013?line=13'>14</a>\u001b[0m downloadFiles(files,downloadDir)\n",
      "\u001b[1;32mc:\\Users\\johnt\\Documents\\GitHub\\SYS320Tiseo\\Week07\\homework\\threathunt.ipynb Cell 5'\u001b[0m in \u001b[0;36mdownloadFiles\u001b[1;34m(files, downloadDirectory)\u001b[0m\n\u001b[0;32m     <a href='vscode-notebook-cell:/c%3A/Users/johnt/Documents/GitHub/SYS320Tiseo/Week07/homework/threathunt.ipynb#ch0000005?line=9'>10</a>\u001b[0m local_path \u001b[39m=\u001b[39m \u001b[39mstr\u001b[39m(downloadDirectory) \u001b[39m+\u001b[39m  \u001b[39m\"\u001b[39m\u001b[39m/\u001b[39m\u001b[39m\"\u001b[39m \u001b[39m+\u001b[39m\u001b[39mstr\u001b[39m(filename)\n\u001b[0;32m     <a href='vscode-notebook-cell:/c%3A/Users/johnt/Documents/GitHub/SYS320Tiseo/Week07/homework/threathunt.ipynb#ch0000005?line=10'>11</a>\u001b[0m \u001b[39m# File grab\u001b[39;00m\n\u001b[1;32m---> <a href='vscode-notebook-cell:/c%3A/Users/johnt/Documents/GitHub/SYS320Tiseo/Week07/homework/threathunt.ipynb#ch0000005?line=11'>12</a>\u001b[0m sftp\u001b[39m.\u001b[39;49mget(eachFile,local_path)\n",
      "File \u001b[1;32m~\\AppData\\Local\\Packages\\PythonSoftwareFoundation.Python.3.9_qbz5n2kfra8p0\\LocalCache\\local-packages\\Python39\\site-packages\\paramiko\\sftp_client.py:811\u001b[0m, in \u001b[0;36mSFTPClient.get\u001b[1;34m(self, remotepath, localpath, callback, prefetch)\u001b[0m\n\u001b[0;32m    <a href='file:///~/AppData/Local/Packages/PythonSoftwareFoundation.Python.3.9_qbz5n2kfra8p0/LocalCache/local-packages/Python39/site-packages/paramiko/sftp_client.py?line=790'>791</a>\u001b[0m \u001b[39m\"\"\"\u001b[39;00m\n\u001b[0;32m    <a href='file:///~/AppData/Local/Packages/PythonSoftwareFoundation.Python.3.9_qbz5n2kfra8p0/LocalCache/local-packages/Python39/site-packages/paramiko/sftp_client.py?line=791'>792</a>\u001b[0m \u001b[39mCopy a remote file (``remotepath``) from the SFTP server to the local\u001b[39;00m\n\u001b[0;32m    <a href='file:///~/AppData/Local/Packages/PythonSoftwareFoundation.Python.3.9_qbz5n2kfra8p0/LocalCache/local-packages/Python39/site-packages/paramiko/sftp_client.py?line=792'>793</a>\u001b[0m \u001b[39mhost as ``localpath``.  Any exception raised by operations will be\u001b[39;00m\n\u001b[1;32m   (...)\u001b[0m\n\u001b[0;32m    <a href='file:///~/AppData/Local/Packages/PythonSoftwareFoundation.Python.3.9_qbz5n2kfra8p0/LocalCache/local-packages/Python39/site-packages/paramiko/sftp_client.py?line=807'>808</a>\u001b[0m \u001b[39m    Added the ``prefetch`` keyword argument.\u001b[39;00m\n\u001b[0;32m    <a href='file:///~/AppData/Local/Packages/PythonSoftwareFoundation.Python.3.9_qbz5n2kfra8p0/LocalCache/local-packages/Python39/site-packages/paramiko/sftp_client.py?line=808'>809</a>\u001b[0m \u001b[39m\"\"\"\u001b[39;00m\n\u001b[0;32m    <a href='file:///~/AppData/Local/Packages/PythonSoftwareFoundation.Python.3.9_qbz5n2kfra8p0/LocalCache/local-packages/Python39/site-packages/paramiko/sftp_client.py?line=809'>810</a>\u001b[0m \u001b[39mwith\u001b[39;00m \u001b[39mopen\u001b[39m(localpath, \u001b[39m\"\u001b[39m\u001b[39mwb\u001b[39m\u001b[39m\"\u001b[39m) \u001b[39mas\u001b[39;00m fl:\n\u001b[1;32m--> <a href='file:///~/AppData/Local/Packages/PythonSoftwareFoundation.Python.3.9_qbz5n2kfra8p0/LocalCache/local-packages/Python39/site-packages/paramiko/sftp_client.py?line=810'>811</a>\u001b[0m     size \u001b[39m=\u001b[39m \u001b[39mself\u001b[39;49m\u001b[39m.\u001b[39;49mgetfo(remotepath, fl, callback, prefetch)\n\u001b[0;32m    <a href='file:///~/AppData/Local/Packages/PythonSoftwareFoundation.Python.3.9_qbz5n2kfra8p0/LocalCache/local-packages/Python39/site-packages/paramiko/sftp_client.py?line=811'>812</a>\u001b[0m s \u001b[39m=\u001b[39m os\u001b[39m.\u001b[39mstat(localpath)\n\u001b[0;32m    <a href='file:///~/AppData/Local/Packages/PythonSoftwareFoundation.Python.3.9_qbz5n2kfra8p0/LocalCache/local-packages/Python39/site-packages/paramiko/sftp_client.py?line=812'>813</a>\u001b[0m \u001b[39mif\u001b[39;00m s\u001b[39m.\u001b[39mst_size \u001b[39m!=\u001b[39m size:\n",
      "File \u001b[1;32m~\\AppData\\Local\\Packages\\PythonSoftwareFoundation.Python.3.9_qbz5n2kfra8p0\\LocalCache\\local-packages\\Python39\\site-packages\\paramiko\\sftp_client.py:782\u001b[0m, in \u001b[0;36mSFTPClient.getfo\u001b[1;34m(self, remotepath, fl, callback, prefetch)\u001b[0m\n\u001b[0;32m    <a href='file:///~/AppData/Local/Packages/PythonSoftwareFoundation.Python.3.9_qbz5n2kfra8p0/LocalCache/local-packages/Python39/site-packages/paramiko/sftp_client.py?line=760'>761</a>\u001b[0m \u001b[39mdef\u001b[39;00m \u001b[39mgetfo\u001b[39m(\u001b[39mself\u001b[39m, remotepath, fl, callback\u001b[39m=\u001b[39m\u001b[39mNone\u001b[39;00m, prefetch\u001b[39m=\u001b[39m\u001b[39mTrue\u001b[39;00m):\n\u001b[0;32m    <a href='file:///~/AppData/Local/Packages/PythonSoftwareFoundation.Python.3.9_qbz5n2kfra8p0/LocalCache/local-packages/Python39/site-packages/paramiko/sftp_client.py?line=761'>762</a>\u001b[0m     \u001b[39m\"\"\"\u001b[39;00m\n\u001b[0;32m    <a href='file:///~/AppData/Local/Packages/PythonSoftwareFoundation.Python.3.9_qbz5n2kfra8p0/LocalCache/local-packages/Python39/site-packages/paramiko/sftp_client.py?line=762'>763</a>\u001b[0m \u001b[39m    Copy a remote file (``remotepath``) from the SFTP server and write to\u001b[39;00m\n\u001b[0;32m    <a href='file:///~/AppData/Local/Packages/PythonSoftwareFoundation.Python.3.9_qbz5n2kfra8p0/LocalCache/local-packages/Python39/site-packages/paramiko/sftp_client.py?line=763'>764</a>\u001b[0m \u001b[39m    an open file or file-like object, ``fl``.  Any exception raised by\u001b[39;00m\n\u001b[1;32m   (...)\u001b[0m\n\u001b[0;32m    <a href='file:///~/AppData/Local/Packages/PythonSoftwareFoundation.Python.3.9_qbz5n2kfra8p0/LocalCache/local-packages/Python39/site-packages/paramiko/sftp_client.py?line=779'>780</a>\u001b[0m \u001b[39m        Added the ``prefetch`` keyword argument.\u001b[39;00m\n\u001b[0;32m    <a href='file:///~/AppData/Local/Packages/PythonSoftwareFoundation.Python.3.9_qbz5n2kfra8p0/LocalCache/local-packages/Python39/site-packages/paramiko/sftp_client.py?line=780'>781</a>\u001b[0m \u001b[39m    \"\"\"\u001b[39;00m\n\u001b[1;32m--> <a href='file:///~/AppData/Local/Packages/PythonSoftwareFoundation.Python.3.9_qbz5n2kfra8p0/LocalCache/local-packages/Python39/site-packages/paramiko/sftp_client.py?line=781'>782</a>\u001b[0m     file_size \u001b[39m=\u001b[39m \u001b[39mself\u001b[39;49m\u001b[39m.\u001b[39;49mstat(remotepath)\u001b[39m.\u001b[39mst_size\n\u001b[0;32m    <a href='file:///~/AppData/Local/Packages/PythonSoftwareFoundation.Python.3.9_qbz5n2kfra8p0/LocalCache/local-packages/Python39/site-packages/paramiko/sftp_client.py?line=782'>783</a>\u001b[0m     \u001b[39mwith\u001b[39;00m \u001b[39mself\u001b[39m\u001b[39m.\u001b[39mopen(remotepath, \u001b[39m\"\u001b[39m\u001b[39mrb\u001b[39m\u001b[39m\"\u001b[39m) \u001b[39mas\u001b[39;00m fr:\n\u001b[0;32m    <a href='file:///~/AppData/Local/Packages/PythonSoftwareFoundation.Python.3.9_qbz5n2kfra8p0/LocalCache/local-packages/Python39/site-packages/paramiko/sftp_client.py?line=783'>784</a>\u001b[0m         \u001b[39mif\u001b[39;00m prefetch:\n",
      "File \u001b[1;32m~\\AppData\\Local\\Packages\\PythonSoftwareFoundation.Python.3.9_qbz5n2kfra8p0\\LocalCache\\local-packages\\Python39\\site-packages\\paramiko\\sftp_client.py:493\u001b[0m, in \u001b[0;36mSFTPClient.stat\u001b[1;34m(self, path)\u001b[0m\n\u001b[0;32m    <a href='file:///~/AppData/Local/Packages/PythonSoftwareFoundation.Python.3.9_qbz5n2kfra8p0/LocalCache/local-packages/Python39/site-packages/paramiko/sftp_client.py?line=490'>491</a>\u001b[0m path \u001b[39m=\u001b[39m \u001b[39mself\u001b[39m\u001b[39m.\u001b[39m_adjust_cwd(path)\n\u001b[0;32m    <a href='file:///~/AppData/Local/Packages/PythonSoftwareFoundation.Python.3.9_qbz5n2kfra8p0/LocalCache/local-packages/Python39/site-packages/paramiko/sftp_client.py?line=491'>492</a>\u001b[0m \u001b[39mself\u001b[39m\u001b[39m.\u001b[39m_log(DEBUG, \u001b[39m\"\u001b[39m\u001b[39mstat(\u001b[39m\u001b[39m{!r}\u001b[39;00m\u001b[39m)\u001b[39m\u001b[39m\"\u001b[39m\u001b[39m.\u001b[39mformat(path))\n\u001b[1;32m--> <a href='file:///~/AppData/Local/Packages/PythonSoftwareFoundation.Python.3.9_qbz5n2kfra8p0/LocalCache/local-packages/Python39/site-packages/paramiko/sftp_client.py?line=492'>493</a>\u001b[0m t, msg \u001b[39m=\u001b[39m \u001b[39mself\u001b[39;49m\u001b[39m.\u001b[39;49m_request(CMD_STAT, path)\n\u001b[0;32m    <a href='file:///~/AppData/Local/Packages/PythonSoftwareFoundation.Python.3.9_qbz5n2kfra8p0/LocalCache/local-packages/Python39/site-packages/paramiko/sftp_client.py?line=493'>494</a>\u001b[0m \u001b[39mif\u001b[39;00m t \u001b[39m!=\u001b[39m CMD_ATTRS:\n\u001b[0;32m    <a href='file:///~/AppData/Local/Packages/PythonSoftwareFoundation.Python.3.9_qbz5n2kfra8p0/LocalCache/local-packages/Python39/site-packages/paramiko/sftp_client.py?line=494'>495</a>\u001b[0m     \u001b[39mraise\u001b[39;00m SFTPError(\u001b[39m\"\u001b[39m\u001b[39mExpected attributes\u001b[39m\u001b[39m\"\u001b[39m)\n",
      "File \u001b[1;32m~\\AppData\\Local\\Packages\\PythonSoftwareFoundation.Python.3.9_qbz5n2kfra8p0\\LocalCache\\local-packages\\Python39\\site-packages\\paramiko\\sftp_client.py:822\u001b[0m, in \u001b[0;36mSFTPClient._request\u001b[1;34m(self, t, *arg)\u001b[0m\n\u001b[0;32m    <a href='file:///~/AppData/Local/Packages/PythonSoftwareFoundation.Python.3.9_qbz5n2kfra8p0/LocalCache/local-packages/Python39/site-packages/paramiko/sftp_client.py?line=819'>820</a>\u001b[0m \u001b[39mdef\u001b[39;00m \u001b[39m_request\u001b[39m(\u001b[39mself\u001b[39m, t, \u001b[39m*\u001b[39marg):\n\u001b[0;32m    <a href='file:///~/AppData/Local/Packages/PythonSoftwareFoundation.Python.3.9_qbz5n2kfra8p0/LocalCache/local-packages/Python39/site-packages/paramiko/sftp_client.py?line=820'>821</a>\u001b[0m     num \u001b[39m=\u001b[39m \u001b[39mself\u001b[39m\u001b[39m.\u001b[39m_async_request(\u001b[39mtype\u001b[39m(\u001b[39mNone\u001b[39;00m), t, \u001b[39m*\u001b[39marg)\n\u001b[1;32m--> <a href='file:///~/AppData/Local/Packages/PythonSoftwareFoundation.Python.3.9_qbz5n2kfra8p0/LocalCache/local-packages/Python39/site-packages/paramiko/sftp_client.py?line=821'>822</a>\u001b[0m     \u001b[39mreturn\u001b[39;00m \u001b[39mself\u001b[39;49m\u001b[39m.\u001b[39;49m_read_response(num)\n",
      "File \u001b[1;32m~\\AppData\\Local\\Packages\\PythonSoftwareFoundation.Python.3.9_qbz5n2kfra8p0\\LocalCache\\local-packages\\Python39\\site-packages\\paramiko\\sftp_client.py:874\u001b[0m, in \u001b[0;36mSFTPClient._read_response\u001b[1;34m(self, waitfor)\u001b[0m\n\u001b[0;32m    <a href='file:///~/AppData/Local/Packages/PythonSoftwareFoundation.Python.3.9_qbz5n2kfra8p0/LocalCache/local-packages/Python39/site-packages/paramiko/sftp_client.py?line=870'>871</a>\u001b[0m \u001b[39mif\u001b[39;00m num \u001b[39m==\u001b[39m waitfor:\n\u001b[0;32m    <a href='file:///~/AppData/Local/Packages/PythonSoftwareFoundation.Python.3.9_qbz5n2kfra8p0/LocalCache/local-packages/Python39/site-packages/paramiko/sftp_client.py?line=871'>872</a>\u001b[0m     \u001b[39m# synchronous\u001b[39;00m\n\u001b[0;32m    <a href='file:///~/AppData/Local/Packages/PythonSoftwareFoundation.Python.3.9_qbz5n2kfra8p0/LocalCache/local-packages/Python39/site-packages/paramiko/sftp_client.py?line=872'>873</a>\u001b[0m     \u001b[39mif\u001b[39;00m t \u001b[39m==\u001b[39m CMD_STATUS:\n\u001b[1;32m--> <a href='file:///~/AppData/Local/Packages/PythonSoftwareFoundation.Python.3.9_qbz5n2kfra8p0/LocalCache/local-packages/Python39/site-packages/paramiko/sftp_client.py?line=873'>874</a>\u001b[0m         \u001b[39mself\u001b[39;49m\u001b[39m.\u001b[39;49m_convert_status(msg)\n\u001b[0;32m    <a href='file:///~/AppData/Local/Packages/PythonSoftwareFoundation.Python.3.9_qbz5n2kfra8p0/LocalCache/local-packages/Python39/site-packages/paramiko/sftp_client.py?line=874'>875</a>\u001b[0m     \u001b[39mreturn\u001b[39;00m t, msg\n\u001b[0;32m    <a href='file:///~/AppData/Local/Packages/PythonSoftwareFoundation.Python.3.9_qbz5n2kfra8p0/LocalCache/local-packages/Python39/site-packages/paramiko/sftp_client.py?line=876'>877</a>\u001b[0m \u001b[39m# can not rewrite this to deal with E721, either as a None check\u001b[39;00m\n\u001b[0;32m    <a href='file:///~/AppData/Local/Packages/PythonSoftwareFoundation.Python.3.9_qbz5n2kfra8p0/LocalCache/local-packages/Python39/site-packages/paramiko/sftp_client.py?line=877'>878</a>\u001b[0m \u001b[39m# nor as not an instance of None or NoneType\u001b[39;00m\n",
      "File \u001b[1;32m~\\AppData\\Local\\Packages\\PythonSoftwareFoundation.Python.3.9_qbz5n2kfra8p0\\LocalCache\\local-packages\\Python39\\site-packages\\paramiko\\sftp_client.py:903\u001b[0m, in \u001b[0;36mSFTPClient._convert_status\u001b[1;34m(self, msg)\u001b[0m\n\u001b[0;32m    <a href='file:///~/AppData/Local/Packages/PythonSoftwareFoundation.Python.3.9_qbz5n2kfra8p0/LocalCache/local-packages/Python39/site-packages/paramiko/sftp_client.py?line=899'>900</a>\u001b[0m     \u001b[39mraise\u001b[39;00m \u001b[39mEOFError\u001b[39;00m(text)\n\u001b[0;32m    <a href='file:///~/AppData/Local/Packages/PythonSoftwareFoundation.Python.3.9_qbz5n2kfra8p0/LocalCache/local-packages/Python39/site-packages/paramiko/sftp_client.py?line=900'>901</a>\u001b[0m \u001b[39melif\u001b[39;00m code \u001b[39m==\u001b[39m SFTP_NO_SUCH_FILE:\n\u001b[0;32m    <a href='file:///~/AppData/Local/Packages/PythonSoftwareFoundation.Python.3.9_qbz5n2kfra8p0/LocalCache/local-packages/Python39/site-packages/paramiko/sftp_client.py?line=901'>902</a>\u001b[0m     \u001b[39m# clever idea from john a. meinel: map the error codes to errno\u001b[39;00m\n\u001b[1;32m--> <a href='file:///~/AppData/Local/Packages/PythonSoftwareFoundation.Python.3.9_qbz5n2kfra8p0/LocalCache/local-packages/Python39/site-packages/paramiko/sftp_client.py?line=902'>903</a>\u001b[0m     \u001b[39mraise\u001b[39;00m \u001b[39mIOError\u001b[39;00m(errno\u001b[39m.\u001b[39mENOENT, text)\n\u001b[0;32m    <a href='file:///~/AppData/Local/Packages/PythonSoftwareFoundation.Python.3.9_qbz5n2kfra8p0/LocalCache/local-packages/Python39/site-packages/paramiko/sftp_client.py?line=903'>904</a>\u001b[0m \u001b[39melif\u001b[39;00m code \u001b[39m==\u001b[39m SFTP_PERMISSION_DENIED:\n\u001b[0;32m    <a href='file:///~/AppData/Local/Packages/PythonSoftwareFoundation.Python.3.9_qbz5n2kfra8p0/LocalCache/local-packages/Python39/site-packages/paramiko/sftp_client.py?line=904'>905</a>\u001b[0m     \u001b[39mraise\u001b[39;00m \u001b[39mIOError\u001b[39;00m(errno\u001b[39m.\u001b[39mEACCES, text)\n",
      "\u001b[1;31mFileNotFoundError\u001b[0m: [Errno 2] No such file"
     ]
    }
   ],
   "source": [
    "# Start SFTP session\n",
    "sftp = ssh.open_sftp()\n",
    "# Check running processes, check sus directory and download.\n",
    "command = ['sudo -S ps aux','sudo -S cp /var/log/auth.log .', 'sudo -S chmod +r auth.log', 'dir /home/p.dalton/']\n",
    "# File for output\n",
    "output = \"running+R.txt\"\n",
    "# Run CMDs\n",
    "runCMDList(command,thePass,output)\n",
    "# List of files to download\n",
    "files = ['/etc/passwd', 'auth.log','ps-aux-results.txt', '/home/p.dalton/aqwerpuqwerj']\n",
    "# Directory to place files (with a z for the kool kidzzz)\n",
    "downloadDir = \"filez\"\n",
    "# DL files\n",
    "downloadFiles(files,downloadDir)\n"
   ]
  },
  {
   "cell_type": "code",
   "execution_count": null,
   "metadata": {
    "collapsed": false,
    "pycharm": {
     "name": "#%%\n"
    }
   },
   "outputs": [],
   "source": [
    "# close the ssh session\n",
    "ssh.close()"
   ]
  }
 ],
 "metadata": {
  "kernelspec": {
   "display_name": "Python 3",
   "language": "python",
   "name": "python3"
  },
  "language_info": {
   "codemirror_mode": {
    "name": "ipython",
    "version": 3
   },
   "file_extension": ".py",
   "mimetype": "text/x-python",
   "name": "python",
   "nbconvert_exporter": "python",
   "pygments_lexer": "ipython3",
   "version": "3.9.10"
  }
 },
 "nbformat": 4,
 "nbformat_minor": 0
}
