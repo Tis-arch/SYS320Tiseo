{
 "cells": [
  {
   "cell_type": "code",
   "execution_count": 2,
   "metadata": {},
   "outputs": [
    {
     "data": {
      "text/plain": [
       "<module 'urlHaus' from 'c:\\\\Users\\\\johnt\\\\Documents\\\\GitHub\\\\SYS320Tiseo\\\\Week03\\\\homework\\\\urlHaus.py'>"
      ]
     },
     "execution_count": 2,
     "metadata": {},
     "output_type": "execute_result"
    }
   ],
   "source": [
    "import urlHaus, importlib\n",
    "importlib.reload(urlHaus)\n"
   ]
  },
  {
   "cell_type": "code",
   "execution_count": 10,
   "metadata": {},
   "outputs": [
    {
     "name": "stdout",
     "output_type": "stream",
     "text": [
      " \n",
      "                    URL: hxxp://103.171.0.134/Registry/.win32.exe \n",
      "                    Info: None \n",
      "                    ************************************************************ \n",
      " \n",
      "                    URL: hxxp://198.46.132.195/Registry/.win32.exe \n",
      "                    Info: None \n",
      "                    ************************************************************ \n",
      " \n",
      "                    URL: hxxp://103.89.90.10/Registry/.win32.exe \n",
      "                    Info: None \n",
      "                    ************************************************************ \n",
      " \n",
      "                    URL: hxxp://103.171.0.134/googleCRC/.win32.exe \n",
      "                    Info: None \n",
      "                    ************************************************************ \n",
      " \n",
      "                    URL: hxxp://198.46.132.195/googleCRC/.win32.exe \n",
      "                    Info: None \n",
      "                    ************************************************************ \n",
      " \n",
      "                    URL: hxxp://103.171.0.134/glcouldB2/.win32.exe \n",
      "                    Info: None \n",
      "                    ************************************************************ \n",
      " \n",
      "                    URL: hxxp://103.171.0.134/couldA9/.win32.exe \n",
      "                    Info: None \n",
      "                    ************************************************************ \n",
      " \n",
      "                    URL: hxxp://103.89.90.10/couldA9/.win32.exe \n",
      "                    Info: None \n",
      "                    ************************************************************ \n",
      " \n",
      "                    URL: hxxp://103.114.105.38/gcould/.win32.exe \n",
      "                    Info: None \n",
      "                    ************************************************************ \n",
      " \n",
      "                    URL: hxxp://103.89.90.10/winos11pro/.win32.exe \n",
      "                    Info: None \n",
      "                    ************************************************************ \n",
      " \n",
      "                    URL: hxxp://103.89.90.10/googlecould/.win32.exe \n",
      "                    Info: None \n",
      "                    ************************************************************ \n",
      " \n",
      "                    URL: hxxp://103.114.105.38/googlecould/.win32.exe \n",
      "                    Info: None \n",
      "                    ************************************************************ \n",
      " \n",
      "                    URL: hxxp://103.114.105.38/intel087(R)/.win32.exe \n",
      "                    Info: 2022-01-25 01:XX:XX \n",
      "                    ************************************************************ \n",
      " \n",
      "                    URL: hxxp://103.114.105.38/intel(R)/.win32.exe \n",
      "                    Info: 2022-01-25 01:XX:XX \n",
      "                    ************************************************************ \n",
      " \n",
      "                    URL: hxxp://103.89.90.10/intel(R)/.win32.exe \n",
      "                    Info: None \n",
      "                    ************************************************************ \n",
      " \n",
      "                    URL: hxxp://103.114.105.38/intelpro/.win32.exe \n",
      "                    Info: 2022-01-25 01:XX:XX \n",
      "                    ************************************************************ \n",
      " \n",
      "                    URL: hxxp://103.89.90.10/oswindows10pro/.win32.exe \n",
      "                    Info: 2022-01-19 00:XX:XX \n",
      "                    ************************************************************ \n",
      " \n",
      "                    URL: hxxp://103.114.105.38/oswindows10pro/.win32.exe \n",
      "                    Info: 2022-01-25 00:XX:XX \n",
      "                    ************************************************************ \n",
      " \n",
      "                    URL: hxxp://103.114.105.38/winos11pro/.win32.exe \n",
      "                    Info: 2022-01-25 01:XX:XX \n",
      "                    ************************************************************ \n",
      " \n",
      "                    URL: hxxp://103.114.105.38/wwindows8/.win32.exe \n",
      "                    Info: 2022-01-25 01:XX:XX \n",
      "                    ************************************************************ \n",
      " \n",
      "                    URL: hxxp://103.114.105.38/windows10/.win32.exe \n",
      "                    Info: 2022-01-25 01:XX:XX \n",
      "                    ************************************************************ \n",
      " \n",
      "                    URL: hxxp://103.114.105.38/savecloud2091/.win32.exe \n",
      "                    Info: 2022-01-25 01:XX:XX \n",
      "                    ************************************************************ \n"
     ]
    }
   ],
   "source": [
    "urlHaus.urlHausOpen('../../logs/urlHaus.csv', ['win32', '.exe'])"
   ]
  },
  {
   "cell_type": "markdown",
   "metadata": {},
   "source": [
    "### We should use square brackets here, otherwise we'd need to change the 2 in the code to a higher number to insert more than one value after the file location. As well, .gov and .edu give us no results."
   ]
  }
 ],
 "metadata": {
  "interpreter": {
   "hash": "6cce7a11eb1f5fbdd133df8c9eee7ee16ffe32d4c2d1ab011a916b0b7f717919"
  },
  "kernelspec": {
   "display_name": "Python 3.9.0 64-bit",
   "language": "python",
   "name": "python3"
  },
  "language_info": {
   "codemirror_mode": {
    "name": "ipython",
    "version": 3
   },
   "file_extension": ".py",
   "mimetype": "text/x-python",
   "name": "python",
   "nbconvert_exporter": "python",
   "pygments_lexer": "ipython3",
   "version": "3.9.0"
  },
  "orig_nbformat": 4
 },
 "nbformat": 4,
 "nbformat_minor": 2
}
