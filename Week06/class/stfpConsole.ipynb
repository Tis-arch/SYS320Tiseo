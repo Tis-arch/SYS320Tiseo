{
 "cells": [
  {
   "cell_type": "code",
   "execution_count": null,
   "metadata": {},
   "outputs": [],
   "source": [
    "import paramiko\n",
    "from getpass import getpass\n",
    "\n",
    "# Create the password prompt\n",
    "thePass = getpass(prompt=\"Please enter your SSH password: \")\n",
    "\n",
    "# Host information\n",
    "host = \"45.62.254.113\"\n",
    "port = 22\n",
    "username = \"root\"\n",
    "password = thePass\n",
    "\n",
    "try:\n",
    "\n",
    "    ssh = paramiko.SSHClient()\n",
    "    ssh.set_missing_host_key_policy(paramiko.AutoAddPolicy())\n",
    "    ssh.connect(host, port, username, password)\n",
    "\n",
    "except paramiko.AuthenticationException:\n",
    "    print(\"Authentication failed.\")"
   ]
  },
  {
   "cell_type": "code",
   "execution_count": null,
   "metadata": {},
   "outputs": [],
   "source": [
    "# start SFTP session\n",
    "sftp = ssh.open_sftp()\n",
    "\n",
    "# List of files to download\n",
    "files = ['/etc/hosts', '/etc/passwd', '/var/log/auth.log']\n",
    "\n",
    "# Loop through the files and download them\n",
    "for eachFile in files:\n",
    "\n",
    "    # Create a list from the filename\n",
    "    x = eachFile.split(\"/\")\n",
    "\n",
    "    #print(x)\n",
    "\n",
    "    # -1 is used to pluck the last element in a list.\n",
    "    filename = x[-1]\n",
    "    #print(filename)\n",
    "    # Local path to store files\n",
    "    local_path = \"remote_files/\" + filename\n",
    "\n",
    "    sftp.get(eachFile,local_path)\n",
    "    #sftp.put(LOCALFILE,REMOTESIDE)\n",
    "\n",
    "ssh.close()"
   ]
  }
 ],
 "metadata": {
  "language_info": {
   "name": "python"
  },
  "orig_nbformat": 4
 },
 "nbformat": 4,
 "nbformat_minor": 2
}
