{
 "cells": [
  {
   "cell_type": "code",
   "execution_count": 3,
   "metadata": {
    "collapsed": true
   },
   "outputs": [],
   "source": [
    "import paramiko\n",
    "from getpass import getpass\n",
    "import os, os.path\n",
    "\n",
    "# Check to see if ssh_results file exists\n",
    "if os.path.exists('ssh_results.txt'):\n",
    "    # Ask user to delete the file (not overwrite)\n",
    "    user_input = input(\"There is a file under that name already. Want to delete it, sire? (y/n) \")\n",
    "    # If yes, deletes the file.\n",
    "    if user_input == \"y\":\n",
    "        os.remove('ssh_results.txt')\n",
    "\n",
    "\n",
    "\n",
    "# Creates the password prompt\n",
    "thePass = getpass(prompt=\"Please enter your SSH password.\")\n",
    "\n",
    "# Host information\n",
    "host = \"45.62.254.113\"\n",
    "port = 22\n",
    "username = \"root\"\n",
    "password = thePass\n",
    "\n",
    "try :\n",
    "    ssh = paramiko.SSHClient()\n",
    "    ssh.set_missing_host_key_policy(paramiko.AutoAddPolicy())\n",
    "    ssh.connect(host,port,username,password)\n",
    "except paramiko.AuthenticationException:\n",
    "    print (\"Authentication failed\")"
   ]
  },
  {
   "cell_type": "code",
   "execution_count": 4,
   "metadata": {
    "collapsed": false,
    "pycharm": {
     "name": "#%%\n"
    }
   },
   "outputs": [],
   "source": [
    "# Run a list of commands\n",
    "command = ['ps -ef', 'netstat -an --inet', 'last -adx', 'cut -d: -f1 /etc/passwd']\n",
    "\n",
    "for eachCMD in command:\n",
    "\n",
    "    # Get the output from the command\n",
    "    stdin, stdout, stderr = ssh.exec_command(eachCMD)\n",
    "\n",
    "    # Get results from stout\n",
    "    lines = stdout.readlines()\n",
    "    # print(lines)\n",
    "\n",
    "    # Convert the list to a string\n",
    "    output = ''.join(lines)\n",
    "\n",
    "    # Header output\n",
    "    sepHeader = '' + '### BEGIN ' + eachCMD + ' ###\\n\\n'\n",
    "\n",
    "    # Footer\n",
    "    sepFooter = '' + '### END ' + eachCMD  + ' ###\\n\\n'\n",
    "\n",
    "    # Concatenates the header, command, footer\n",
    "    cmd_output = sepHeader + output + sepFooter\n",
    "\n",
    "    # save the cmd_output to a file\n",
    "    with open('ssh_results.txt', 'a') as f:\n",
    "        f.write(cmd_output)\n",
    "    # print(cmd_output)\n",
    "\n",
    "ssh.close()"
   ]
  }
 ],
 "metadata": {
  "kernelspec": {
   "display_name": "Python 3",
   "language": "python",
   "name": "python3"
  },
  "language_info": {
   "codemirror_mode": {
    "name": "ipython",
    "version": 3
   },
   "file_extension": ".py",
   "mimetype": "text/x-python",
   "name": "python",
   "nbconvert_exporter": "python",
   "pygments_lexer": "ipython3",
   "version": "3.9.10"
  }
 },
 "nbformat": 4,
 "nbformat_minor": 0
}
