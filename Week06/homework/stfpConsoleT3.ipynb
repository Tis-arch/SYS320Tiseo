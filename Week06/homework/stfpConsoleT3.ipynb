{
 "cells": [
  {
   "cell_type": "code",
   "execution_count": 1,
   "metadata": {
    "collapsed": true
   },
   "outputs": [],
   "source": [
    "import paramiko\n",
    "from getpass import getpass\n",
    "import os, os.path\n",
    "\n",
    "# Check to see if ssh_results file exists\n",
    "if os.path.exists('ssh_results.txt'):\n",
    "    # Ask user if they wish to delete the file (not overwrite.)\n",
    "    user_input = input(\"There is a file under that name already. Want to delete it, sire? (y/n) \")\n",
    "\n",
    "    # If yes, deletes the file.\n",
    "    if user_input == \"y\":\n",
    "        os.remove('ssh_results.txt')\n",
    "\n",
    "# Create password prompt\n",
    "thePass = getpass(prompt=\"Please enter your SSH password.\")\n",
    "\n",
    "# Host information\n",
    "host = \"45.62.254.113\"\n",
    "port = 22\n",
    "username = \"root\"\n",
    "password = thePass\n",
    "\n",
    "try :\n",
    "    ssh = paramiko.SSHClient()\n",
    "    ssh.set_missing_host_key_policy(paramiko.AutoAddPolicy())\n",
    "    ssh.connect(host,port,username,password)\n",
    "except paramiko.AuthenticationException:\n",
    "    print (\"Authentication failed\")"
   ]
  },
  {
   "cell_type": "code",
   "execution_count": 2,
   "metadata": {
    "collapsed": false,
    "pycharm": {
     "name": "#%%\n"
    }
   },
   "outputs": [],
   "source": [
    "# start SFTP session\n",
    "sftp = ssh.open_sftp()\n",
    "\n",
    "# The local file in our directory\n",
    "localFile = \"fs.py\"\n",
    "# The remote path to upload the file to\n",
    "remotePath = \"/home/john/fs.py\"\n",
    "\n",
    "# push the file to the linux server in the correct path\n",
    "sftp.put(localFile, remotePath)\n",
    "\n",
    "# Run the file that was pushed\n",
    "command = \"python3 fs.py -d /usr/bin\"\n",
    "\n",
    "# Get the output from the command\n",
    "stdin, stdout, stderr = ssh.exec_command(command)\n",
    "\n",
    "# Results from stdout\n",
    "lines = stdout.readlines()\n",
    "\n",
    "# Convert the list to a string\n",
    "output = ''.join(lines)\n",
    "# Header output\n",
    "sepHeader = '' + '### BEGIN ' + command + ' ###\\n\\n'\n",
    "# Footer\n",
    "sepFooter = '' + '### END ' + command  + ' ###\\n\\n'\n",
    "# Concatenates the header, command, footer\n",
    "cmd_output = sepHeader + output + sepFooter\n",
    "\n",
    "# Save the cmd_output to a file\n",
    "with open('doomp.txt', 'a') as f:\n",
    "    f.write(cmd_output)\n"
   ]
  },
  {
   "cell_type": "code",
   "execution_count": 3,
   "metadata": {
    "collapsed": false,
    "pycharm": {
     "name": "#%%\n"
    }
   },
   "outputs": [],
   "source": [
    "# Close SSH\n",
    "ssh.close()"
   ]
  }
 ],
 "metadata": {
  "kernelspec": {
   "display_name": "Python 3",
   "language": "python",
   "name": "python3"
  },
  "language_info": {
   "codemirror_mode": {
    "name": "ipython",
    "version": 3
   },
   "file_extension": ".py",
   "mimetype": "text/x-python",
   "name": "python",
   "nbconvert_exporter": "python",
   "pygments_lexer": "ipython3",
   "version": "3.9.0"
  }
 },
 "nbformat": 4,
 "nbformat_minor": 0
}
